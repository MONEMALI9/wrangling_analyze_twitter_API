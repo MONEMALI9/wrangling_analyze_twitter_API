{
 "cells": [
  {
   "cell_type": "markdown",
   "metadata": {},
   "source": [
    "## Report: act_report\n",
    "* Create a **250-word-minimum written report** called \"act_report.pdf\" or \"act_report.html\" that communicates the insights and displays the visualization(s) produced from your wrangled data. This is to be framed as an external document, like a blog post or magazine article, for example."
   ]
  },
  {
   "cell_type": "markdown",
   "metadata": {},
   "source": [
    "# Act Report \n",
    "\n",
    ">**Tip**:This report communicates the insights and displays the visualizations produced from the wrangled data . The dataset that was wrangled ( and analyzed and visualized ) is the tweet archive of Twitter user @dog_rates , also known as WeRateDogs . WeRate Dogs is a Twitter account that rates people's dogs with a humorous comment about the dog . These ratings almost always have a denominator of 10. The numerators , though ? Almost always greater than 10. 11/10 , 12/10 , 13/10 , etc. Why ? Because \" they're good dogs Brent . \" WeRateDogs has over 4 million followers and has received international media coverage . The entirety of this project was completed inside the Udacity classroom on the Project Workspace . However , the reports were created and exported as HTMLs using Jupyter Notebook ."
   ]
  },
  {
   "cell_type": "markdown",
   "metadata": {},
   "source": [
    "#### Storing Data: \n",
    "\n",
    "    The cleaned data was stored in a CSV file named twitter_archive_master.csv that could be easily used for analyzing and visualizing data.\n",
    "    \n",
    "#### Analyzing and Visualizing Data:\n",
    "\n",
    "    The cleaned data was analyzed and insights regarding the following were concluded: \n",
    "        A. The percentage of different dog stages. \n",
    "        \n",
    "##### The percentage of different dog stages. \n",
    "\n",
    "<img src=\"images/download (1).png\">\n",
    "\n",
    "        1.pupper was foundto have highest percentage among other dog stage\n",
    "        1.floofer was foundto have lowest percentage among other dog stage\n",
    "\n",
    "##### The relationship between retweet count and favorite count.\n",
    "\n",
    "        B. The relationship between retweet count and favorite count.\n",
    "        \n",
    "<img src=\"images/download (2).png\">\n",
    "\n",
    "         It is a linear relationship between retweet count and favorite count."
   ]
  },
  {
   "cell_type": "markdown",
   "metadata": {},
   "source": [
    "<img src=\"images/Capture.png\">"
   ]
  },
  {
   "cell_type": "markdown",
   "metadata": {},
   "source": [
    "using hist() function to draw Histogram for each column \n",
    "\n",
    "and use figsize(,) parameter to show it obviously"
   ]
  },
  {
   "cell_type": "markdown",
   "metadata": {},
   "source": [
    "<img src=\"images/download.png\">"
   ]
  },
  {
   "cell_type": "markdown",
   "metadata": {},
   "source": [
    "using plotting.scatter_matrix() function to draw Histogramsfor each column \n",
    "\n",
    "and scatter plotting between numerical columns \n",
    "\n",
    "and use figsize(,) parameter to show it obviously"
   ]
  }
 ],
 "metadata": {
  "kernelspec": {
   "display_name": "Python 3 (ipykernel)",
   "language": "python",
   "name": "python3"
  },
  "language_info": {
   "codemirror_mode": {
    "name": "ipython",
    "version": 3
   },
   "file_extension": ".py",
   "mimetype": "text/x-python",
   "name": "python",
   "nbconvert_exporter": "python",
   "pygments_lexer": "ipython3",
   "version": "3.7.8"
  }
 },
 "nbformat": 4,
 "nbformat_minor": 2
}
